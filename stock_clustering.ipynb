{
 "cells": [
  {
   "cell_type": "code",
   "execution_count": 15,
   "metadata": {},
   "outputs": [],
   "source": [
    "# Jupyter Notebook libraries\n",
    "from IPython.display import display\n",
    "from ipywidgets import widgets\n",
    "\n",
    "# Python native libraries\n",
    "import datetime as dt\n",
    "from path import Path\n",
    "from time import sleep\n",
    "import sqlalchemy\n",
    "\n",
    "# Conda libraries\n",
    "import pandas as pd\n",
    "from sklearn.cluster import KMeans\n",
    "from sklearn.decomposition import PCA\n",
    "from sklearn.preprocessing import StandardScaler\n",
    "from bokeh.models import HoverTool\n",
    "\n",
    "# External libraries\n",
    "import mplfinance as mpf\n",
    "import hvplot.pandas\n",
    "\n",
    "# Local libraries\n",
    "from utils.alpaca import alpaca as alp\n",
    "\n"
   ]
  },
  {
   "cell_type": "code",
   "execution_count": 16,
   "metadata": {},
   "outputs": [
    {
     "data": {
      "text/plain": [
       "Index(['exchange', 'symbol'], dtype='object')"
      ]
     },
     "metadata": {},
     "output_type": "display_data"
    }
   ],
   "source": [
    "active_assets = alp.list_assets(status='active')\n",
    "active_assets_df = pd.DataFrame([asset._raw for asset in active_assets if asset._raw['tradable'] == True])\n",
    "active_assets_df = active_assets_df.loc[lambda df: (df['class'] == 'us_equity')]\n",
    "active_assets_df.drop(columns=['id', 'name', 'class', 'status', 'tradable', 'min_order_size', 'min_trade_increment', 'price_increment'], inplace=True)\n",
    "active_assets_df.drop(columns=['marginable', 'shortable', 'easy_to_borrow', 'fractionable'], inplace=True)\n",
    "# active_assets_df.set_index(keys='id', drop=True, inplace=True)\n",
    "display(active_assets_df.columns)"
   ]
  },
  {
   "cell_type": "code",
   "execution_count": 17,
   "metadata": {},
   "outputs": [
    {
     "data": {
      "text/plain": [
       "['NYSE', 'NASDAQ', 'ARCA', 'AMEX', 'BATS', 'OTC']"
      ]
     },
     "metadata": {},
     "output_type": "display_data"
    }
   ],
   "source": [
    "exchange_list = active_assets_df['exchange'].unique().tolist()\n",
    "display(exchange_list)"
   ]
  },
  {
   "cell_type": "code",
   "execution_count": 18,
   "metadata": {},
   "outputs": [
    {
     "name": "stdout",
     "output_type": "stream",
     "text": [
      "Most recent trading day: 2022-05-09\n"
     ]
    }
   ],
   "source": [
    "today = dt.datetime.now()\n",
    "offset = max(1, (today.weekday() + 6) % 7 -3)\n",
    "timedelta = dt.timedelta(offset)\n",
    "most_recent = today - timedelta\n",
    "print(f\"Most recent trading day: {most_recent.date()}\")\n",
    "numdays=365\n",
    "oldest_date = most_recent - dt.timedelta(days=numdays)\n",
    "\n",
    "def get_last_price(symbol):\n",
    "    return alp.get_bars(\n",
    "        symbol=symbol,\n",
    "        timeframe='1D', \n",
    "        # limit=100, \n",
    "        end=str(most_recent.date()),\n",
    "        start=str(oldest_date.date()),\n",
    "    ).df"
   ]
  },
  {
   "cell_type": "code",
   "execution_count": 19,
   "metadata": {},
   "outputs": [
    {
     "data": {
      "application/vnd.jupyter.widget-view+json": {
       "model_id": "fae0bc701ea144d79c4bd50c35b5d637",
       "version_major": 2,
       "version_minor": 0
      },
      "text/plain": [
       "Output()"
      ]
     },
     "metadata": {},
     "output_type": "display_data"
    }
   ],
   "source": [
    "output = widgets.Output()\n",
    "display(output)"
   ]
  },
  {
   "cell_type": "code",
   "execution_count": 20,
   "metadata": {},
   "outputs": [
    {
     "data": {
      "text/plain": [
       "'NASDAQ'"
      ]
     },
     "metadata": {},
     "output_type": "display_data"
    },
    {
     "name": "stdout",
     "output_type": "stream",
     "text": [
      "3578/4989 SOSHO"
     ]
    },
    {
     "data": {
      "text/plain": [
       "\"Exception 'close' for SOSH bars_df\""
      ]
     },
     "metadata": {},
     "output_type": "display_data"
    },
    {
     "name": "stdout",
     "output_type": "stream",
     "text": [
      "3592/4989 WYTCU"
     ]
    },
    {
     "data": {
      "text/plain": [
       "\"Exception 'close' for WYTC bars_df\""
      ]
     },
     "metadata": {},
     "output_type": "display_data"
    },
    {
     "name": "stdout",
     "output_type": "stream",
     "text": [
      "4287/4989 TENKU"
     ]
    },
    {
     "data": {
      "text/plain": [
       "\"Exception 'close' for TENKU bars_df\""
      ]
     },
     "metadata": {},
     "output_type": "display_data"
    },
    {
     "name": "stdout",
     "output_type": "stream",
     "text": [
      "4288/4989 GBBKU"
     ]
    },
    {
     "data": {
      "text/plain": [
       "\"Exception 'close' for GBBKU bars_df\""
      ]
     },
     "metadata": {},
     "output_type": "display_data"
    },
    {
     "name": "stdout",
     "output_type": "stream",
     "text": [
      "4289/4989 IVCAU"
     ]
    },
    {
     "data": {
      "text/plain": [
       "\"Exception 'close' for IVCAU bars_df\""
      ]
     },
     "metadata": {},
     "output_type": "display_data"
    },
    {
     "name": "stdout",
     "output_type": "stream",
     "text": [
      "4983/4989 SVREU"
     ]
    },
    {
     "data": {
      "text/plain": [
       "\"Exception 'close' for SVRE bars_df\""
      ]
     },
     "metadata": {},
     "output_type": "display_data"
    },
    {
     "name": "stdout",
     "output_type": "stream",
     "text": [
      "4988/4989 AYTUU"
     ]
    },
    {
     "data": {
      "text/plain": [
       "'AMEX'"
      ]
     },
     "metadata": {},
     "output_type": "display_data"
    },
    {
     "name": "stdout",
     "output_type": "stream",
     "text": [
      "216/269 NHS.RTT"
     ]
    },
    {
     "data": {
      "text/plain": [
       "\"Exception 'close' for NHS.RT bars_df\""
      ]
     },
     "metadata": {},
     "output_type": "display_data"
    },
    {
     "name": "stdout",
     "output_type": "stream",
     "text": [
      "226/269 GLU.RTWI"
     ]
    },
    {
     "data": {
      "text/plain": [
       "\"Exception 'close' for GLU.RTWI bars_df\""
      ]
     },
     "metadata": {},
     "output_type": "display_data"
    },
    {
     "name": "stdout",
     "output_type": "stream",
     "text": [
      "268/269 AEFE.U"
     ]
    },
    {
     "data": {
      "text/plain": [
       "'NYSE'"
      ]
     },
     "metadata": {},
     "output_type": "display_data"
    },
    {
     "name": "stdout",
     "output_type": "stream",
     "text": [
      "9/2975 BALL"
     ]
    },
    {
     "data": {
      "text/plain": [
       "\"Exception 'close' for BALL bars_df\""
      ]
     },
     "metadata": {},
     "output_type": "display_data"
    },
    {
     "name": "stdout",
     "output_type": "stream",
     "text": [
      "2338/2975 AXAC.RT"
     ]
    },
    {
     "data": {
      "text/plain": [
       "\"Exception 'close' for AXAC.RT bars_df\""
      ]
     },
     "metadata": {},
     "output_type": "display_data"
    },
    {
     "name": "stdout",
     "output_type": "stream",
     "text": [
      "2530/2975 EVEXUU"
     ]
    },
    {
     "data": {
      "text/plain": [
       "\"Exception 'close' for EVEX bars_df\""
      ]
     },
     "metadata": {},
     "output_type": "display_data"
    },
    {
     "name": "stdout",
     "output_type": "stream",
     "text": [
      "2974/2975 ASAB.U"
     ]
    }
   ],
   "source": [
    "stock_dict = {}\n",
    "pop_set = {'OTC','BATS', 'ARCA'}\n",
    "exchange_set = set(exchange_list)\n",
    "exchange_set = exchange_set.difference(pop_set)\n",
    "# display(list(exchange_set))\n",
    "exchange_list = list(exchange_set)\n",
    "periods_dict = {\n",
    "    \"pct_chg_24_hour\": 1, \n",
    "    \"pct_chg_1_week\": 5,\n",
    "    \"pct_chg_1_month\": 21,\n",
    "    \"pct_chg_3_months\": 63,\n",
    "    \"pct_chg_6_months\": 126,\n",
    "    \"pct_chg_1_year\": 252,\n",
    "    }\n",
    "# display(periods_list)\n",
    "\n",
    "for exchange in exchange_list:\n",
    "    display(exchange)\n",
    "    stock_list = list(active_assets_df.loc[lambda df: (df['exchange'] == exchange)]['symbol'])\n",
    "    # display(stock_list)\n",
    "    stock_dict[exchange] = pd.DataFrame()\n",
    "    for i, symb in enumerate(stock_list[:]):\n",
    "        sleep(.25)\n",
    "        print(f\"\\r{i}/{len(stock_list)} {symb}\", end='')\n",
    "        # display(exchange, symb)\n",
    "        bars_df = get_last_price(symb)\n",
    "        drop_cols=['open', 'high', 'low', 'volume', 'trade_count', 'vwap']\n",
    "        \n",
    "        try:\n",
    "            bars_df = pd.DataFrame(bars_df.loc[:, 'close'])\n",
    "        except Exception as e:\n",
    "            display(f\"Exception {e} for {symb} bars_df\")\n",
    "        else:\n",
    "            for k, v in periods_dict.items():\n",
    "                temp_df = pd.DataFrame(bars_df.loc[:,'close'].pct_change(periods=v))\n",
    "                temp_df.rename(columns={'close':k}, inplace=True)\n",
    "                bars_df = bars_df.join(temp_df, how='outer')\n",
    "            # stock_dict[exchange].iloc[symb] = bars_df.iloc[-1]\n",
    "            price_hist_row = pd.DataFrame(bars_df.iloc[-1])\n",
    "            price_hist_row.rename(columns={bars_df.index[-1]: symb}, inplace=True)\n",
    "            # display(price_hist_row.T)\n",
    "            # display(stock_dict[exchange])\n",
    "\n",
    "        # display(bars_df.tail(1))\n",
    "            try:\n",
    "                stock_dict[exchange] = stock_dict[exchange].join(price_hist_row.T, how='outer')\n",
    "            except ValueError:\n",
    "                try:\n",
    "                    stock_dict[exchange] = pd.concat([stock_dict[exchange], price_hist_row.T], join='outer')\n",
    "                except Exception as e:\n",
    "                    print(f\"Exception: {e}\")\n",
    "\n",
    "\n",
    "        # stock_dict[exchange] = stock_dict[exchange].join(price_hist_row.T, how='outer')\n",
    "        # display(stock_dict[exchange])\n",
    "        # with output:\n",
    "        #     # output.clear_output()\n",
    "        #     try:\n",
    "        #         display(f\"{exchange}: {bars_df.index[0]} to {bars_df.index[-1]}\")\n",
    "        #     except Exception as e:\n",
    "        #         pass\n",
    "        #         display(exchange, e)\n",
    "        #     display(bars_df.tail(1))\n",
    "        # stock_dict[exchange] = \n"
   ]
  },
  {
   "cell_type": "code",
   "execution_count": 23,
   "metadata": {},
   "outputs": [
    {
     "data": {
      "text/plain": [
       "['NASDAQ', 'AMEX', 'NYSE']"
      ]
     },
     "metadata": {},
     "output_type": "display_data"
    }
   ],
   "source": [
    "display(exchange_list)"
   ]
  },
  {
   "cell_type": "code",
   "execution_count": 26,
   "metadata": {},
   "outputs": [
    {
     "data": {
      "text/html": [
       "<div>\n",
       "<style scoped>\n",
       "    .dataframe tbody tr th:only-of-type {\n",
       "        vertical-align: middle;\n",
       "    }\n",
       "\n",
       "    .dataframe tbody tr th {\n",
       "        vertical-align: top;\n",
       "    }\n",
       "\n",
       "    .dataframe thead th {\n",
       "        text-align: right;\n",
       "    }\n",
       "</style>\n",
       "<table border=\"1\" class=\"dataframe\">\n",
       "  <thead>\n",
       "    <tr style=\"text-align: right;\">\n",
       "      <th></th>\n",
       "      <th>close</th>\n",
       "      <th>pct_chg_24_hour</th>\n",
       "      <th>pct_chg_1_week</th>\n",
       "      <th>pct_chg_1_month</th>\n",
       "      <th>pct_chg_3_months</th>\n",
       "      <th>pct_chg_6_months</th>\n",
       "      <th>pct_chg_1_year</th>\n",
       "    </tr>\n",
       "  </thead>\n",
       "  <tbody>\n",
       "    <tr>\n",
       "      <th>BSJM</th>\n",
       "      <td>22.4700</td>\n",
       "      <td>-0.002663</td>\n",
       "      <td>-0.006192</td>\n",
       "      <td>-0.015769</td>\n",
       "      <td>-0.023468</td>\n",
       "      <td>-0.034379</td>\n",
       "      <td>-0.036449</td>\n",
       "    </tr>\n",
       "    <tr>\n",
       "      <th>BSJN</th>\n",
       "      <td>23.6400</td>\n",
       "      <td>-0.006305</td>\n",
       "      <td>-0.011706</td>\n",
       "      <td>-0.027961</td>\n",
       "      <td>-0.044462</td>\n",
       "      <td>-0.068558</td>\n",
       "      <td>-0.069291</td>\n",
       "    </tr>\n",
       "    <tr>\n",
       "      <th>BSJO</th>\n",
       "      <td>22.7200</td>\n",
       "      <td>-0.007427</td>\n",
       "      <td>-0.012603</td>\n",
       "      <td>-0.035244</td>\n",
       "      <td>-0.064636</td>\n",
       "      <td>-0.095181</td>\n",
       "      <td>-0.093738</td>\n",
       "    </tr>\n",
       "    <tr>\n",
       "      <th>BSJP</th>\n",
       "      <td>22.8200</td>\n",
       "      <td>-0.007395</td>\n",
       "      <td>-0.013403</td>\n",
       "      <td>-0.031820</td>\n",
       "      <td>-0.051143</td>\n",
       "      <td>-0.073111</td>\n",
       "      <td>-0.074615</td>\n",
       "    </tr>\n",
       "    <tr>\n",
       "      <th>BSJQ</th>\n",
       "      <td>23.2100</td>\n",
       "      <td>-0.011078</td>\n",
       "      <td>-0.016525</td>\n",
       "      <td>-0.040116</td>\n",
       "      <td>-0.067871</td>\n",
       "      <td>-0.098641</td>\n",
       "      <td>-0.096887</td>\n",
       "    </tr>\n",
       "    <tr>\n",
       "      <th>...</th>\n",
       "      <td>...</td>\n",
       "      <td>...</td>\n",
       "      <td>...</td>\n",
       "      <td>...</td>\n",
       "      <td>...</td>\n",
       "      <td>...</td>\n",
       "      <td>...</td>\n",
       "    </tr>\n",
       "    <tr>\n",
       "      <th>ACOR</th>\n",
       "      <td>0.8500</td>\n",
       "      <td>-0.122173</td>\n",
       "      <td>-0.351145</td>\n",
       "      <td>-0.484848</td>\n",
       "      <td>-0.554974</td>\n",
       "      <td>-0.780928</td>\n",
       "      <td>-0.796163</td>\n",
       "    </tr>\n",
       "    <tr>\n",
       "      <th>AEAEU</th>\n",
       "      <td>10.1200</td>\n",
       "      <td>0.000000</td>\n",
       "      <td>0.006965</td>\n",
       "      <td>0.005954</td>\n",
       "      <td>0.003968</td>\n",
       "      <td>0.001980</td>\n",
       "      <td>NaN</td>\n",
       "    </tr>\n",
       "    <tr>\n",
       "      <th>AEAE</th>\n",
       "      <td>9.9600</td>\n",
       "      <td>0.000000</td>\n",
       "      <td>-0.001003</td>\n",
       "      <td>0.002012</td>\n",
       "      <td>0.003021</td>\n",
       "      <td>NaN</td>\n",
       "      <td>NaN</td>\n",
       "    </tr>\n",
       "    <tr>\n",
       "      <th>AEACU</th>\n",
       "      <td>9.9000</td>\n",
       "      <td>-0.001009</td>\n",
       "      <td>-0.005025</td>\n",
       "      <td>-0.006523</td>\n",
       "      <td>-0.003021</td>\n",
       "      <td>-0.012961</td>\n",
       "      <td>-0.014925</td>\n",
       "    </tr>\n",
       "    <tr>\n",
       "      <th>AYTU</th>\n",
       "      <td>0.5182</td>\n",
       "      <td>-0.091674</td>\n",
       "      <td>-0.223088</td>\n",
       "      <td>-0.476566</td>\n",
       "      <td>-0.588730</td>\n",
       "      <td>-0.799147</td>\n",
       "      <td>-0.903140</td>\n",
       "    </tr>\n",
       "  </tbody>\n",
       "</table>\n",
       "<p>4983 rows × 7 columns</p>\n",
       "</div>"
      ],
      "text/plain": [
       "         close  pct_chg_24_hour  pct_chg_1_week  pct_chg_1_month  \\\n",
       "BSJM   22.4700        -0.002663       -0.006192        -0.015769   \n",
       "BSJN   23.6400        -0.006305       -0.011706        -0.027961   \n",
       "BSJO   22.7200        -0.007427       -0.012603        -0.035244   \n",
       "BSJP   22.8200        -0.007395       -0.013403        -0.031820   \n",
       "BSJQ   23.2100        -0.011078       -0.016525        -0.040116   \n",
       "...        ...              ...             ...              ...   \n",
       "ACOR    0.8500        -0.122173       -0.351145        -0.484848   \n",
       "AEAEU  10.1200         0.000000        0.006965         0.005954   \n",
       "AEAE    9.9600         0.000000       -0.001003         0.002012   \n",
       "AEACU   9.9000        -0.001009       -0.005025        -0.006523   \n",
       "AYTU    0.5182        -0.091674       -0.223088        -0.476566   \n",
       "\n",
       "       pct_chg_3_months  pct_chg_6_months  pct_chg_1_year  \n",
       "BSJM          -0.023468         -0.034379       -0.036449  \n",
       "BSJN          -0.044462         -0.068558       -0.069291  \n",
       "BSJO          -0.064636         -0.095181       -0.093738  \n",
       "BSJP          -0.051143         -0.073111       -0.074615  \n",
       "BSJQ          -0.067871         -0.098641       -0.096887  \n",
       "...                 ...               ...             ...  \n",
       "ACOR          -0.554974         -0.780928       -0.796163  \n",
       "AEAEU          0.003968          0.001980             NaN  \n",
       "AEAE           0.003021               NaN             NaN  \n",
       "AEACU         -0.003021         -0.012961       -0.014925  \n",
       "AYTU          -0.588730         -0.799147       -0.903140  \n",
       "\n",
       "[4983 rows x 7 columns]"
      ]
     },
     "metadata": {},
     "output_type": "display_data"
    }
   ],
   "source": [
    "display(stock_dict[exchange_list[0]])"
   ]
  },
  {
   "cell_type": "code",
   "execution_count": 27,
   "metadata": {},
   "outputs": [
    {
     "data": {
      "text/html": [
       "<div>\n",
       "<style scoped>\n",
       "    .dataframe tbody tr th:only-of-type {\n",
       "        vertical-align: middle;\n",
       "    }\n",
       "\n",
       "    .dataframe tbody tr th {\n",
       "        vertical-align: top;\n",
       "    }\n",
       "\n",
       "    .dataframe thead th {\n",
       "        text-align: right;\n",
       "    }\n",
       "</style>\n",
       "<table border=\"1\" class=\"dataframe\">\n",
       "  <thead>\n",
       "    <tr style=\"text-align: right;\">\n",
       "      <th></th>\n",
       "      <th>close</th>\n",
       "      <th>pct_chg_24_hour</th>\n",
       "      <th>pct_chg_1_week</th>\n",
       "      <th>pct_chg_1_month</th>\n",
       "      <th>pct_chg_3_months</th>\n",
       "      <th>pct_chg_6_months</th>\n",
       "      <th>pct_chg_1_year</th>\n",
       "    </tr>\n",
       "  </thead>\n",
       "  <tbody>\n",
       "    <tr>\n",
       "      <th>BTG</th>\n",
       "      <td>4.03</td>\n",
       "      <td>-0.064965</td>\n",
       "      <td>-0.042755</td>\n",
       "      <td>-0.125813</td>\n",
       "      <td>0.089189</td>\n",
       "      <td>-0.077803</td>\n",
       "      <td>-0.201980</td>\n",
       "    </tr>\n",
       "    <tr>\n",
       "      <th>BTN</th>\n",
       "      <td>2.94</td>\n",
       "      <td>-0.020000</td>\n",
       "      <td>-0.016722</td>\n",
       "      <td>-0.039216</td>\n",
       "      <td>-0.006757</td>\n",
       "      <td>-0.045455</td>\n",
       "      <td>-0.379747</td>\n",
       "    </tr>\n",
       "    <tr>\n",
       "      <th>BTTR</th>\n",
       "      <td>1.91</td>\n",
       "      <td>-0.111628</td>\n",
       "      <td>-0.059113</td>\n",
       "      <td>-0.268199</td>\n",
       "      <td>-0.292593</td>\n",
       "      <td>-0.502604</td>\n",
       "      <td>NaN</td>\n",
       "    </tr>\n",
       "    <tr>\n",
       "      <th>CANF</th>\n",
       "      <td>0.84</td>\n",
       "      <td>-0.076923</td>\n",
       "      <td>-0.137134</td>\n",
       "      <td>-0.263158</td>\n",
       "      <td>-0.256637</td>\n",
       "      <td>-0.436242</td>\n",
       "      <td>-0.582090</td>\n",
       "    </tr>\n",
       "    <tr>\n",
       "      <th>CCF</th>\n",
       "      <td>84.90</td>\n",
       "      <td>0.009633</td>\n",
       "      <td>-0.001529</td>\n",
       "      <td>-0.004222</td>\n",
       "      <td>-0.123024</td>\n",
       "      <td>-0.202293</td>\n",
       "      <td>-0.263979</td>\n",
       "    </tr>\n",
       "    <tr>\n",
       "      <th>...</th>\n",
       "      <td>...</td>\n",
       "      <td>...</td>\n",
       "      <td>...</td>\n",
       "      <td>...</td>\n",
       "      <td>...</td>\n",
       "      <td>...</td>\n",
       "      <td>...</td>\n",
       "    </tr>\n",
       "    <tr>\n",
       "      <th>AGE</th>\n",
       "      <td>0.72</td>\n",
       "      <td>-0.162401</td>\n",
       "      <td>-0.168495</td>\n",
       "      <td>-0.202834</td>\n",
       "      <td>-0.121951</td>\n",
       "      <td>-0.121951</td>\n",
       "      <td>-0.446154</td>\n",
       "    </tr>\n",
       "    <tr>\n",
       "      <th>ASM</th>\n",
       "      <td>0.64</td>\n",
       "      <td>-0.080724</td>\n",
       "      <td>-0.085584</td>\n",
       "      <td>-0.296703</td>\n",
       "      <td>-0.137350</td>\n",
       "      <td>-0.335410</td>\n",
       "      <td>-0.518797</td>\n",
       "    </tr>\n",
       "    <tr>\n",
       "      <th>AMS</th>\n",
       "      <td>2.33</td>\n",
       "      <td>0.013043</td>\n",
       "      <td>0.044843</td>\n",
       "      <td>-0.004274</td>\n",
       "      <td>0.073733</td>\n",
       "      <td>-0.218121</td>\n",
       "      <td>-0.167857</td>\n",
       "    </tr>\n",
       "    <tr>\n",
       "      <th>AMPE</th>\n",
       "      <td>0.22</td>\n",
       "      <td>-0.048443</td>\n",
       "      <td>0.000000</td>\n",
       "      <td>-0.497028</td>\n",
       "      <td>-0.560878</td>\n",
       "      <td>-0.863354</td>\n",
       "      <td>-0.882979</td>\n",
       "    </tr>\n",
       "    <tr>\n",
       "      <th>AEF</th>\n",
       "      <td>5.46</td>\n",
       "      <td>-0.045455</td>\n",
       "      <td>-0.079258</td>\n",
       "      <td>-0.167683</td>\n",
       "      <td>-0.289987</td>\n",
       "      <td>-0.359906</td>\n",
       "      <td>-0.367323</td>\n",
       "    </tr>\n",
       "  </tbody>\n",
       "</table>\n",
       "<p>267 rows × 7 columns</p>\n",
       "</div>"
      ],
      "text/plain": [
       "      close  pct_chg_24_hour  pct_chg_1_week  pct_chg_1_month  \\\n",
       "BTG    4.03        -0.064965       -0.042755        -0.125813   \n",
       "BTN    2.94        -0.020000       -0.016722        -0.039216   \n",
       "BTTR   1.91        -0.111628       -0.059113        -0.268199   \n",
       "CANF   0.84        -0.076923       -0.137134        -0.263158   \n",
       "CCF   84.90         0.009633       -0.001529        -0.004222   \n",
       "...     ...              ...             ...              ...   \n",
       "AGE    0.72        -0.162401       -0.168495        -0.202834   \n",
       "ASM    0.64        -0.080724       -0.085584        -0.296703   \n",
       "AMS    2.33         0.013043        0.044843        -0.004274   \n",
       "AMPE   0.22        -0.048443        0.000000        -0.497028   \n",
       "AEF    5.46        -0.045455       -0.079258        -0.167683   \n",
       "\n",
       "      pct_chg_3_months  pct_chg_6_months  pct_chg_1_year  \n",
       "BTG           0.089189         -0.077803       -0.201980  \n",
       "BTN          -0.006757         -0.045455       -0.379747  \n",
       "BTTR         -0.292593         -0.502604             NaN  \n",
       "CANF         -0.256637         -0.436242       -0.582090  \n",
       "CCF          -0.123024         -0.202293       -0.263979  \n",
       "...                ...               ...             ...  \n",
       "AGE          -0.121951         -0.121951       -0.446154  \n",
       "ASM          -0.137350         -0.335410       -0.518797  \n",
       "AMS           0.073733         -0.218121       -0.167857  \n",
       "AMPE         -0.560878         -0.863354       -0.882979  \n",
       "AEF          -0.289987         -0.359906       -0.367323  \n",
       "\n",
       "[267 rows x 7 columns]"
      ]
     },
     "metadata": {},
     "output_type": "display_data"
    }
   ],
   "source": [
    "display(stock_dict[exchange_list[1]])"
   ]
  },
  {
   "cell_type": "code",
   "execution_count": 28,
   "metadata": {},
   "outputs": [
    {
     "data": {
      "text/html": [
       "<div>\n",
       "<style scoped>\n",
       "    .dataframe tbody tr th:only-of-type {\n",
       "        vertical-align: middle;\n",
       "    }\n",
       "\n",
       "    .dataframe tbody tr th {\n",
       "        vertical-align: top;\n",
       "    }\n",
       "\n",
       "    .dataframe thead th {\n",
       "        text-align: right;\n",
       "    }\n",
       "</style>\n",
       "<table border=\"1\" class=\"dataframe\">\n",
       "  <thead>\n",
       "    <tr style=\"text-align: right;\">\n",
       "      <th></th>\n",
       "      <th>close</th>\n",
       "      <th>pct_chg_24_hour</th>\n",
       "      <th>pct_chg_1_week</th>\n",
       "      <th>pct_chg_1_month</th>\n",
       "      <th>pct_chg_3_months</th>\n",
       "      <th>pct_chg_6_months</th>\n",
       "      <th>pct_chg_1_year</th>\n",
       "    </tr>\n",
       "  </thead>\n",
       "  <tbody>\n",
       "    <tr>\n",
       "      <th>BSIG</th>\n",
       "      <td>20.02</td>\n",
       "      <td>-0.011358</td>\n",
       "      <td>-0.010870</td>\n",
       "      <td>-0.099415</td>\n",
       "      <td>-0.155987</td>\n",
       "      <td>-0.339056</td>\n",
       "      <td>-0.120000</td>\n",
       "    </tr>\n",
       "    <tr>\n",
       "      <th>BSL</th>\n",
       "      <td>14.25</td>\n",
       "      <td>-0.022634</td>\n",
       "      <td>-0.013841</td>\n",
       "      <td>-0.072266</td>\n",
       "      <td>-0.124155</td>\n",
       "      <td>-0.151281</td>\n",
       "      <td>-0.100379</td>\n",
       "    </tr>\n",
       "    <tr>\n",
       "      <th>BSM</th>\n",
       "      <td>14.63</td>\n",
       "      <td>-0.049383</td>\n",
       "      <td>-0.077554</td>\n",
       "      <td>0.018093</td>\n",
       "      <td>0.224268</td>\n",
       "      <td>0.203125</td>\n",
       "      <td>0.359665</td>\n",
       "    </tr>\n",
       "    <tr>\n",
       "      <th>BSMX</th>\n",
       "      <td>5.40</td>\n",
       "      <td>-0.017002</td>\n",
       "      <td>0.001855</td>\n",
       "      <td>0.000000</td>\n",
       "      <td>-0.032258</td>\n",
       "      <td>-0.156250</td>\n",
       "      <td>-0.054291</td>\n",
       "    </tr>\n",
       "    <tr>\n",
       "      <th>BST</th>\n",
       "      <td>35.66</td>\n",
       "      <td>-0.052352</td>\n",
       "      <td>-0.078315</td>\n",
       "      <td>-0.154576</td>\n",
       "      <td>-0.208259</td>\n",
       "      <td>-0.358056</td>\n",
       "      <td>-0.357593</td>\n",
       "    </tr>\n",
       "    <tr>\n",
       "      <th>...</th>\n",
       "      <td>...</td>\n",
       "      <td>...</td>\n",
       "      <td>...</td>\n",
       "      <td>...</td>\n",
       "      <td>...</td>\n",
       "      <td>...</td>\n",
       "      <td>...</td>\n",
       "    </tr>\n",
       "    <tr>\n",
       "      <th>AIZ</th>\n",
       "      <td>180.97</td>\n",
       "      <td>-0.040354</td>\n",
       "      <td>0.000719</td>\n",
       "      <td>-0.025681</td>\n",
       "      <td>0.184824</td>\n",
       "      <td>0.113387</td>\n",
       "      <td>0.131982</td>\n",
       "    </tr>\n",
       "    <tr>\n",
       "      <th>BHP</th>\n",
       "      <td>62.14</td>\n",
       "      <td>-0.056340</td>\n",
       "      <td>-0.078042</td>\n",
       "      <td>-0.196639</td>\n",
       "      <td>-0.092184</td>\n",
       "      <td>0.163235</td>\n",
       "      <td>-0.231226</td>\n",
       "    </tr>\n",
       "    <tr>\n",
       "      <th>ASAI</th>\n",
       "      <td>14.28</td>\n",
       "      <td>-0.007644</td>\n",
       "      <td>-0.055556</td>\n",
       "      <td>-0.156028</td>\n",
       "      <td>0.169533</td>\n",
       "      <td>0.039301</td>\n",
       "      <td>-0.148987</td>\n",
       "    </tr>\n",
       "    <tr>\n",
       "      <th>BHLB</th>\n",
       "      <td>25.23</td>\n",
       "      <td>-0.006302</td>\n",
       "      <td>0.018982</td>\n",
       "      <td>-0.086862</td>\n",
       "      <td>-0.171156</td>\n",
       "      <td>-0.116597</td>\n",
       "      <td>0.024777</td>\n",
       "    </tr>\n",
       "    <tr>\n",
       "      <th>ASA</th>\n",
       "      <td>19.01</td>\n",
       "      <td>-0.048072</td>\n",
       "      <td>-0.057511</td>\n",
       "      <td>-0.144464</td>\n",
       "      <td>-0.093034</td>\n",
       "      <td>-0.103302</td>\n",
       "      <td>-0.169506</td>\n",
       "    </tr>\n",
       "  </tbody>\n",
       "</table>\n",
       "<p>2972 rows × 7 columns</p>\n",
       "</div>"
      ],
      "text/plain": [
       "       close  pct_chg_24_hour  pct_chg_1_week  pct_chg_1_month  \\\n",
       "BSIG   20.02        -0.011358       -0.010870        -0.099415   \n",
       "BSL    14.25        -0.022634       -0.013841        -0.072266   \n",
       "BSM    14.63        -0.049383       -0.077554         0.018093   \n",
       "BSMX    5.40        -0.017002        0.001855         0.000000   \n",
       "BST    35.66        -0.052352       -0.078315        -0.154576   \n",
       "...      ...              ...             ...              ...   \n",
       "AIZ   180.97        -0.040354        0.000719        -0.025681   \n",
       "BHP    62.14        -0.056340       -0.078042        -0.196639   \n",
       "ASAI   14.28        -0.007644       -0.055556        -0.156028   \n",
       "BHLB   25.23        -0.006302        0.018982        -0.086862   \n",
       "ASA    19.01        -0.048072       -0.057511        -0.144464   \n",
       "\n",
       "      pct_chg_3_months  pct_chg_6_months  pct_chg_1_year  \n",
       "BSIG         -0.155987         -0.339056       -0.120000  \n",
       "BSL          -0.124155         -0.151281       -0.100379  \n",
       "BSM           0.224268          0.203125        0.359665  \n",
       "BSMX         -0.032258         -0.156250       -0.054291  \n",
       "BST          -0.208259         -0.358056       -0.357593  \n",
       "...                ...               ...             ...  \n",
       "AIZ           0.184824          0.113387        0.131982  \n",
       "BHP          -0.092184          0.163235       -0.231226  \n",
       "ASAI          0.169533          0.039301       -0.148987  \n",
       "BHLB         -0.171156         -0.116597        0.024777  \n",
       "ASA          -0.093034         -0.103302       -0.169506  \n",
       "\n",
       "[2972 rows x 7 columns]"
      ]
     },
     "metadata": {},
     "output_type": "display_data"
    }
   ],
   "source": [
    "display(stock_dict[exchange_list[2]])"
   ]
  },
  {
   "cell_type": "code",
   "execution_count": 32,
   "metadata": {},
   "outputs": [
    {
     "data": {
      "text/plain": [
       "Engine(sqlite:///test_db.db)"
      ]
     },
     "execution_count": 32,
     "metadata": {},
     "output_type": "execute_result"
    }
   ],
   "source": [
    "database_connection_string = 'sqlite:///test_db.db'\n",
    "engine = sqlalchemy.create_engine(database_connection_string)\n",
    "display(engine)\n"
   ]
  },
  {
   "cell_type": "code",
   "execution_count": 37,
   "metadata": {},
   "outputs": [
    {
     "data": {
      "text/html": [
       "<div>\n",
       "<style scoped>\n",
       "    .dataframe tbody tr th:only-of-type {\n",
       "        vertical-align: middle;\n",
       "    }\n",
       "\n",
       "    .dataframe tbody tr th {\n",
       "        vertical-align: top;\n",
       "    }\n",
       "\n",
       "    .dataframe thead th {\n",
       "        text-align: right;\n",
       "    }\n",
       "</style>\n",
       "<table border=\"1\" class=\"dataframe\">\n",
       "  <thead>\n",
       "    <tr style=\"text-align: right;\">\n",
       "      <th></th>\n",
       "      <th>close</th>\n",
       "      <th>pct_chg_24_hour</th>\n",
       "      <th>pct_chg_1_week</th>\n",
       "      <th>pct_chg_1_month</th>\n",
       "      <th>pct_chg_3_months</th>\n",
       "      <th>pct_chg_6_months</th>\n",
       "      <th>pct_chg_1_year</th>\n",
       "    </tr>\n",
       "  </thead>\n",
       "  <tbody>\n",
       "    <tr>\n",
       "      <th>BSJM</th>\n",
       "      <td>22.47</td>\n",
       "      <td>-0.002663</td>\n",
       "      <td>-0.006192</td>\n",
       "      <td>-0.015769</td>\n",
       "      <td>-0.023468</td>\n",
       "      <td>-0.034379</td>\n",
       "      <td>-0.036449</td>\n",
       "    </tr>\n",
       "    <tr>\n",
       "      <th>BSJN</th>\n",
       "      <td>23.64</td>\n",
       "      <td>-0.006305</td>\n",
       "      <td>-0.011706</td>\n",
       "      <td>-0.027961</td>\n",
       "      <td>-0.044462</td>\n",
       "      <td>-0.068558</td>\n",
       "      <td>-0.069291</td>\n",
       "    </tr>\n",
       "    <tr>\n",
       "      <th>BSJO</th>\n",
       "      <td>22.72</td>\n",
       "      <td>-0.007427</td>\n",
       "      <td>-0.012603</td>\n",
       "      <td>-0.035244</td>\n",
       "      <td>-0.064636</td>\n",
       "      <td>-0.095181</td>\n",
       "      <td>-0.093738</td>\n",
       "    </tr>\n",
       "    <tr>\n",
       "      <th>BSJP</th>\n",
       "      <td>22.82</td>\n",
       "      <td>-0.007395</td>\n",
       "      <td>-0.013403</td>\n",
       "      <td>-0.031820</td>\n",
       "      <td>-0.051143</td>\n",
       "      <td>-0.073111</td>\n",
       "      <td>-0.074615</td>\n",
       "    </tr>\n",
       "    <tr>\n",
       "      <th>BSJQ</th>\n",
       "      <td>23.21</td>\n",
       "      <td>-0.011078</td>\n",
       "      <td>-0.016525</td>\n",
       "      <td>-0.040116</td>\n",
       "      <td>-0.067871</td>\n",
       "      <td>-0.098641</td>\n",
       "      <td>-0.096887</td>\n",
       "    </tr>\n",
       "  </tbody>\n",
       "</table>\n",
       "</div>"
      ],
      "text/plain": [
       "      close  pct_chg_24_hour  pct_chg_1_week  pct_chg_1_month  \\\n",
       "BSJM  22.47        -0.002663       -0.006192        -0.015769   \n",
       "BSJN  23.64        -0.006305       -0.011706        -0.027961   \n",
       "BSJO  22.72        -0.007427       -0.012603        -0.035244   \n",
       "BSJP  22.82        -0.007395       -0.013403        -0.031820   \n",
       "BSJQ  23.21        -0.011078       -0.016525        -0.040116   \n",
       "\n",
       "      pct_chg_3_months  pct_chg_6_months  pct_chg_1_year  \n",
       "BSJM         -0.023468         -0.034379       -0.036449  \n",
       "BSJN         -0.044462         -0.068558       -0.069291  \n",
       "BSJO         -0.064636         -0.095181       -0.093738  \n",
       "BSJP         -0.051143         -0.073111       -0.074615  \n",
       "BSJQ         -0.067871         -0.098641       -0.096887  "
      ]
     },
     "metadata": {},
     "output_type": "display_data"
    }
   ],
   "source": [
    "display(stock_dict[exchange_list[0]].head())\n",
    "for exchange in exchange_list:\n",
    "    stock_dict[exchange].to_sql(exchange, engine)\n"
   ]
  },
  {
   "cell_type": "code",
   "execution_count": 40,
   "metadata": {},
   "outputs": [
    {
     "data": {
      "text/plain": [
       "['AMEX', 'NASDAQ', 'NYSE']"
      ]
     },
     "metadata": {},
     "output_type": "display_data"
    }
   ],
   "source": [
    "display(sqlalchemy.inspect(engine).get_table_names())"
   ]
  }
 ],
 "metadata": {
  "interpreter": {
   "hash": "4b5b012ea58ebdc9c430366275deb7f3fca1f6158dc27f8c74d29a595a3b80ad"
  },
  "kernelspec": {
   "display_name": "Python 3.7.13 ('dev')",
   "language": "python",
   "name": "python3"
  },
  "language_info": {
   "codemirror_mode": {
    "name": "ipython",
    "version": 3
   },
   "file_extension": ".py",
   "mimetype": "text/x-python",
   "name": "python",
   "nbconvert_exporter": "python",
   "pygments_lexer": "ipython3",
   "version": "3.7.13"
  },
  "orig_nbformat": 4
 },
 "nbformat": 4,
 "nbformat_minor": 2
}
